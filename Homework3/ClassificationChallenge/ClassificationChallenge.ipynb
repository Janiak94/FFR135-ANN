{
 "cells": [
  {
   "cell_type": "code",
   "execution_count": 38,
   "metadata": {},
   "outputs": [],
   "source": [
    "import numpy as np\n",
    "import tensorflow as tf\n",
    "import tensorflow_datasets as tfds\n",
    "import matplotlib.pyplot as plt\n",
    "import matplotlib.image as mpimg\n",
    "\n",
    "# Load training data from tfds\n",
    "(ds_train, ds_validation), ds_info = tfds.load(\n",
    "    'mnist',\n",
    "    split=['train', 'test'],\n",
    "    shuffle_files=True,\n",
    "    as_supervised=True,\n",
    "    with_info=True,\n",
    ")\n",
    "\n",
    "# Rescale training and validation data\n",
    "ds_rescale_map = lambda img, label: (tf.cast(img, tf.float32) / 255.0, label)\n",
    "ds_train = ds_train.map(ds_rescale_map, num_parallel_calls=tf.data.AUTOTUNE)\n",
    "ds_validation = ds_validation.map(ds_rescale_map, num_parallel_calls=tf.data.AUTOTUNE)\n",
    "\n",
    "# Setup batching\n",
    "batch_size = 128\n",
    "\n",
    "ds_train = ds_train.cache()\n",
    "ds_train = ds_train.shuffle(1000)\n",
    "ds_train = ds_train.batch(batch_size)\n",
    "ds_train = ds_train.prefetch(tf.data.AUTOTUNE)\n",
    "\n",
    "ds_validation = ds_validation.batch(batch_size)\n",
    "ds_validation = ds_validation.cache()\n",
    "ds_validation = ds_validation.prefetch(tf.data.AUTOTUNE)"
   ]
  },
  {
   "cell_type": "code",
   "execution_count": 55,
   "metadata": {},
   "outputs": [
    {
     "name": "stdout",
     "output_type": "stream",
     "text": [
      "Epoch 1/4\n",
      "469/469 [==============================] - 8s 16ms/step - loss: 0.2014 - accuracy: 0.9410 - val_loss: 0.0792 - val_accuracy: 0.9754\n",
      "Epoch 2/4\n",
      "469/469 [==============================] - 8s 17ms/step - loss: 0.0646 - accuracy: 0.9814 - val_loss: 0.0615 - val_accuracy: 0.9788\n",
      "Epoch 3/4\n",
      "469/469 [==============================] - 9s 18ms/step - loss: 0.0411 - accuracy: 0.9881 - val_loss: 0.0574 - val_accuracy: 0.9800\n",
      "Epoch 4/4\n",
      "469/469 [==============================] - 10s 21ms/step - loss: 0.0270 - accuracy: 0.9922 - val_loss: 0.0567 - val_accuracy: 0.9822\n"
     ]
    },
    {
     "data": {
      "text/plain": [
       "<keras.callbacks.History at 0x7fdd51976820>"
      ]
     },
     "execution_count": 55,
     "metadata": {},
     "output_type": "execute_result"
    }
   ],
   "source": [
    "# Setup model\n",
    "model = tf.keras.models.Sequential([\n",
    "    tf.keras.layers.InputLayer(input_shape=(28,28,1)),\n",
    "    tf.keras.layers.Conv2D(28, (3,3), activation='relu', input_shape=(batch_size,28,28,1)),\n",
    "    tf.keras.layers.Flatten(input_shape=(28,28)),\n",
    "    tf.keras.layers.Dense(64,activation='relu'),\n",
    "    tf.keras.layers.Dense(10)\n",
    "])\n",
    "\n",
    "# Compile and fit model\n",
    "learning_rate = 0.001\n",
    "model.compile(\n",
    "    optimizer=tf.keras.optimizers.Adam(learning_rate),\n",
    "    loss=tf.keras.losses.SparseCategoricalCrossentropy(from_logits=True),\n",
    "    metrics='accuracy'\n",
    ")\n",
    "\n",
    "model.fit(\n",
    "    ds_train,\n",
    "    epochs=4,\n",
    "    validation_data=ds_validation\n",
    ")"
   ]
  },
  {
   "cell_type": "code",
   "execution_count": 63,
   "metadata": {},
   "outputs": [
    {
     "data": {
      "image/png": "[encoded data removed]",
      "text/plain": [
       "<Figure size 432x288 with 1 Axes>"
      ]
     },
     "metadata": {
      "needs_background": "light"
     },
     "output_type": "display_data"
    }
   ],
   "source": [
    "# Load test data and rescale\n",
    "ds_test = np.load('../xTest2.npy').astype('float32')\n",
    "ds_test /= 255.0\n",
    "\n",
    "# Move last axis to make compatible with predict function\n",
    "ds_test = np.moveaxis(ds_test, -1, 0)\n",
    "classifications = model.predict(ds_test)\n",
    "classifications = classifications.argmax(1) # Get label\n",
    "example_idx = np.random.randint(ds_test.shape[0])\n",
    "\n",
    "original_img = plt.imshow(ds_test[example_idx,:,:,0], cmap='Greys')\n",
    "plt.title('Classified as: {}'.format(classifications[example_idx]))\n",
    "plt.show()\n",
    "\n",
    "classifications.tofile('classifications.csv', sep=',')"
   ]
  },
  {
   "cell_type": "code",
   "execution_count": null,
   "metadata": {},
   "outputs": [],
   "source": []
  },
  {
   "cell_type": "code",
   "execution_count": null,
   "metadata": {},
   "outputs": [],
   "source": []
  }
 ],
 "metadata": {
  "kernelspec": {
   "display_name": "tensorflow-venv",
   "language": "python",
   "name": "tensorflow-venv"
  },
  "language_info": {
   "codemirror_mode": {
    "name": "ipython",
    "version": 3
   },
   "file_extension": ".py",
   "mimetype": "text/x-python",
   "name": "python",
   "nbconvert_exporter": "python",
   "pygments_lexer": "ipython3",
   "version": "3.9.7"
  }
 },
 "nbformat": 4,
 "nbformat_minor": 2
}
