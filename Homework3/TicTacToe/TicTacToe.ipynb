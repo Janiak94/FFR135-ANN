{
 "cells": [
  {
   "cell_type": "markdown",
   "metadata": {},
   "source": [
    "## Implementation of Q learning"
   ]
  },
  {
   "cell_type": "code",
   "execution_count": 83,
   "metadata": {},
   "outputs": [
    {
     "name": "stdout",
     "output_type": "stream",
     "text": [
      "Training done.\n"
     ]
    }
   ],
   "source": [
    "import numpy as np\n",
    "import matplotlib.pyplot as plt\n",
    "\n",
    "def is_round_over(state):\n",
    "    row_sums = np.abs(np.sum(state, axis=0))\n",
    "    col_sums = np.abs(np.sum(state, axis=1))\n",
    "    first_trace = np.abs(np.trace(state))\n",
    "    second_trace = np.abs(np.trace(state[::-1]))\n",
    "    if np.any(row_sums == 3) or np.any(col_sums == 3) or first_trace == 3 or second_trace == 3:\n",
    "        return True\n",
    "    elif np.all(state):\n",
    "        return True\n",
    "    else:\n",
    "        return False\n",
    "    \n",
    "def get_round_over_type(state):\n",
    "    round_over = is_round_over(state)\n",
    "    if round_over and np.all(state):\n",
    "        return 'draw'\n",
    "    elif round_over:\n",
    "        return 'win'\n",
    "    else:\n",
    "        return None\n",
    "    \n",
    "def get_q_table(state, q_table_lookup):\n",
    "    state_key = str(state)\n",
    "    if state_key in q_table_lookup:\n",
    "        q_table = q_table_lookup[state_key]['q']\n",
    "    else:\n",
    "        q_table = np.where(state == 0, state, np.NaN) # Set NaN where we have pieces placed\n",
    "        q_table_lookup[state_key] = {}\n",
    "        q_table_lookup[state_key]['q'] = q_table\n",
    "        q_table_lookup[state_key]['state'] = state.copy()\n",
    "    return q_table\n",
    "\n",
    "def make_move(state, q_table_lookup, marker, epsilon):\n",
    "    state = state.copy() # Very important to make a copy here so we dont change in all state arrays\n",
    "    q_table = get_q_table(state, q_table_lookup)\n",
    "    if np.random.rand() < epsilon:\n",
    "        viable_actions = np.argwhere(~np.isnan(q_table))\n",
    "    else:\n",
    "        viable_actions = np.argwhere(q_table == np.nanmax(q_table))\n",
    "    action = tuple(viable_actions[np.random.randint(len(viable_actions))])\n",
    "    state[action] = marker\n",
    "    return state, action\n",
    "    \n",
    "def play_round(player_q_table_lookup, learning_rate, epsilon):\n",
    "    state = np.zeros((3,3), dtype='int8')\n",
    "    state_list = [state]\n",
    "    action_list = []\n",
    "    stop_game = False\n",
    "    \n",
    "    player_list = ['player1', 'player2']\n",
    "    marker_list = [1, -1]\n",
    "    turn = 0\n",
    "    while not is_round_over(state):\n",
    "        player_idx = turn%2\n",
    "        waiter_idx = (turn+1)%2\n",
    "        player = player_list[player_idx]\n",
    "        waiter = player_list[waiter_idx]\n",
    "        \n",
    "        # Update Q table now that we know what the previous player did\n",
    "        if len(state_list) > 2:\n",
    "            previous_state = state_list[-3] # Previous state Player encountered\n",
    "            current_state = state_list[-1] # Current state\n",
    "            action = action_list[-2] # Players previous action\n",
    "            previous_q_table = get_q_table(previous_state, player_q_table_lookup[player])\n",
    "            current_q_table = get_q_table(current_state, player_q_table_lookup[player])\n",
    "            q_value = previous_q_table[action]\n",
    "            reward = 0 # Reward will always be 0 here because game is still ongoing\n",
    "            q_value = q_value + learning_rate*(reward + np.nanmax(current_q_table) - q_value)\n",
    "            previous_q_table[action] = q_value\n",
    "        \n",
    "        # Player makes move\n",
    "        q_table_lookup = player_q_table_lookup[player]\n",
    "        state, action = make_move(state, q_table_lookup, marker_list[player_idx], epsilon)\n",
    "        \n",
    "        state_list.append(state)\n",
    "        action_list.append(action)     \n",
    "        turn += 1\n",
    "    round_over_type = get_round_over_type(state)\n",
    "    if round_over_type is 'win':\n",
    "        winner = player\n",
    "        reward = 1\n",
    "    else:\n",
    "        winner = None\n",
    "        reward = 0\n",
    "    # Give rewards\n",
    "    q_table = get_q_table(state_list[-2], player_q_table_lookup[player])\n",
    "    q_table[action_list[-1]] = reward\n",
    "    q_table = get_q_table(state_list[-3], player_q_table_lookup[waiter])\n",
    "    q_table[action_list[-2]] = -reward\n",
    "    \n",
    "    return winner\n",
    "\n",
    "# Initilize Q-tables for the two players\n",
    "player_q_table_lookup = {\n",
    "    'player1': {},\n",
    "    'player2': {}\n",
    "}\n",
    "\n",
    "n_rounds = 50000\n",
    "learning_rate = 0.1\n",
    "outcomes = []\n",
    "verbose = False\n",
    "for i in range(n_rounds):\n",
    "    if i < 10000:\n",
    "        epsilon = 1\n",
    "    elif i%100 == 0:\n",
    "        epsilon *= 0.95\n",
    "    winner = play_round(player_q_table_lookup, learning_rate, epsilon)\n",
    "    outcomes.append(winner)\n",
    "    if (i+1)%100 == 0 and verbose:\n",
    "        print(f'{i+1}/{n_rounds}, epsilon={epsilon:.4f}')\n",
    "print('Training done.')"
   ]
  },
  {
   "cell_type": "markdown",
   "metadata": {},
   "source": [
    "## Save Q values for each player to file"
   ]
  },
  {
   "cell_type": "code",
   "execution_count": 84,
   "metadata": {},
   "outputs": [],
   "source": [
    "def write_results(player, player_q_table_lookup):\n",
    "    states = []\n",
    "    q_tables = []\n",
    "    for key, value in player_q_table_lookup[player].items():\n",
    "        states.append(value['state'])\n",
    "        q_tables.append(value['q'])\n",
    "    states = tuple(states)\n",
    "    q_tables = tuple(q_tables)\n",
    "    states = np.concatenate(states, axis=1)\n",
    "    q_tables = np.concatenate(q_tables, axis=1)\n",
    "\n",
    "    output = \"\"\n",
    "    for i in range(3):\n",
    "        for j in range(states.shape[1]-1):\n",
    "            output += str(states[i,j]) + \", \"\n",
    "        output += str(states[-1,-1]) + \"\\n\"\n",
    "    for i in range(3):\n",
    "        for j in range(states.shape[1]-1):\n",
    "            output += \"{}\".format(q_tables[i,j]) + \", \"\n",
    "        output += \"{}\".format(q_tables[i,j]) + \"\\n\"\n",
    "    out_file = open(player + \".csv\", \"w\")\n",
    "    out_file.write(output)\n",
    "    out_file.close()\n",
    "    \n",
    "write_results('player1', player_q_table_lookup)\n",
    "write_results('player2', player_q_table_lookup)"
   ]
  },
  {
   "cell_type": "markdown",
   "metadata": {},
   "source": [
    "## Plot training results"
   ]
  },
  {
   "cell_type": "code",
   "execution_count": 85,
   "metadata": {},
   "outputs": [
    {
     "data": {
      "image/png": "[encoded data removed]",
      "text/plain": [
       "<Figure size 432x288 with 1 Axes>"
      ]
     },
     "metadata": {
      "needs_background": "light"
     },
     "output_type": "display_data"
    }
   ],
   "source": [
    "player1_freq = np.zeros((n_rounds,))\n",
    "player2_freq = np.zeros((n_rounds,))\n",
    "draw_freq = np.zeros((n_rounds,))\n",
    "max_window_size = 300\n",
    "for i in range(n_rounds):\n",
    "    if i < max_window_size:\n",
    "        frame = outcomes[:i]\n",
    "        window_size = i+1\n",
    "    else:\n",
    "        frame = outcomes[(i-window_size):i]\n",
    "        window_size = max_window_size\n",
    "    player1_freq[i] = (frame.count('player1')/window_size)\n",
    "    player2_freq[i] = (frame.count('player2')/window_size)\n",
    "    draw_freq[i] = (frame.count(None)/window_size)\n",
    "    \n",
    "    \n",
    "\n",
    "rounds = np.arange(n_rounds)\n",
    "plt.plot(rounds, player1_freq, label='Player 1')\n",
    "plt.plot(rounds, player2_freq, label='Player 2')\n",
    "plt.plot(rounds, draw_freq, label='Draw')\n",
    "plt.legend()\n",
    "plt.grid()"
   ]
  },
  {
   "cell_type": "code",
   "execution_count": null,
   "metadata": {},
   "outputs": [],
   "source": []
  }
 ],
 "metadata": {
  "kernelspec": {
   "display_name": "Python 3",
   "language": "python",
   "name": "python3"
  },
  "language_info": {
   "codemirror_mode": {
    "name": "ipython",
    "version": 3
   },
   "file_extension": ".py",
   "mimetype": "text/x-python",
   "name": "python",
   "nbconvert_exporter": "python",
   "pygments_lexer": "ipython3",
   "version": "3.7.4"
  }
 },
 "nbformat": 4,
 "nbformat_minor": 2
}
